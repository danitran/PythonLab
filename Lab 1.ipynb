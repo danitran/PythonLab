{
 "cells": [
  {
   "metadata": {
    "jupyter": {
     "is_executing": true
    }
   },
   "cell_type": "code",
   "outputs": [],
   "execution_count": null,
   "source": [
    "name = \"Dang Ngoc Tai Tran\" # Write your name between parenthesis\n",
    "student_id = 2421472 # Change your student ID here\n",
    "date_returned = \"\" # Write the date returned between the parenthesis"
   ],
   "id": "668cbde07cdb84fc"
  },
  {
   "metadata": {},
   "cell_type": "markdown",
   "source": [
    "# Lab 1\n",
    "**Graphical representation of functions**<br>\n",
    "Software 1 course - Mathematics<br>\n",
    "Information and Communication Technology<br>\n",
    "Metropolia University of Applied Sciences\n",
    "\n",
    "## Instructions\n",
    "\n",
    "The aim of these first Python exercises is to get familiar with the basics of the numerical python and matplotlib graphics libraries.\n",
    "\n",
    "The problems are designed to be solved in order. The next problem is build on the topics learnt in the previous problems.\n",
    "\n",
    "Most important official documents to review:\n",
    "- [Numpy array creation](https://numpy.org/doc/1.23/user/basics.creation.html)\n",
    "- [A simple example of matplotlib](https://matplotlib.org/stable/tutorials/introductory/usage.html#a-simple-example)\n",
    "- [Intro to pyplot](https://matplotlib.org/stable/tutorials/introductory/pyplot.html#sphx-glr-tutorials-introductory-pyplot-py)\n",
    "- [Basic usage of matplotlib](https://matplotlib.org/stable/tutorials/introductory/usage.html#sphx-glr-tutorials-introductory-usage-py)\n",
    "\n",
    "You can use [Moodle Quiz Lab 1](https://moodle.metropolia.fi/course/view.php?id=1960) to automatically check and verify your answers.\n"
   ],
   "id": "294ff5d3435001b4"
  },
  {
   "metadata": {},
   "cell_type": "markdown",
   "source": [
    "## Setup\n",
    "\n",
    "Read necessary libraries. Notice that you need to import these libraries only once in the Notebook environment."
   ],
   "id": "cfda00670a9b0f4e"
  },
  {
   "metadata": {
    "ExecuteTime": {
     "end_time": "2024-10-04T20:04:17.167447Z",
     "start_time": "2024-10-04T20:04:16.471140Z"
    }
   },
   "cell_type": "code",
   "source": [
    "import numpy as np\n",
    "import matplotlib.pyplot as plt"
   ],
   "id": "2e7de5ef676df9a1",
   "outputs": [],
   "execution_count": 1
  },
  {
   "metadata": {},
   "cell_type": "markdown",
   "source": [
    "## Problem 1\n",
    "\n",
    "Create a numerical array $x$ from 10 to 20 with step size of 1. "
   ],
   "id": "18f267ef87f983a2"
  },
  {
   "metadata": {
    "ExecuteTime": {
     "end_time": "2024-10-03T11:34:42.413004Z",
     "start_time": "2024-10-03T11:34:42.407507Z"
    }
   },
   "cell_type": "code",
   "source": [
    "x = np.arange(10, 21, 1)\n",
    "print(x)"
   ],
   "id": "afda80e55a94dd84",
   "outputs": [
    {
     "name": "stdout",
     "output_type": "stream",
     "text": [
      "[10 11 12 13 14 15 16 17 18 19]\n"
     ]
    }
   ],
   "execution_count": 4
  },
  {
   "metadata": {},
   "cell_type": "markdown",
   "source": "",
   "id": "92d34375c4324b32"
  },
  {
   "metadata": {},
   "cell_type": "markdown",
   "source": [
    "## Problem 2\n",
    "Create a numerical array $x$ from -5 to 5 with step size of 0.5."
   ],
   "id": "9b0b9fcfc434fec3"
  },
  {
   "metadata": {
    "ExecuteTime": {
     "end_time": "2024-10-03T10:16:44.663979Z",
     "start_time": "2024-10-03T10:16:44.658515Z"
    }
   },
   "cell_type": "code",
   "outputs": [
    {
     "name": "stdout",
     "output_type": "stream",
     "text": [
      "[-5.  -4.5 -4.  -3.5 -3.  -2.5 -2.  -1.5 -1.  -0.5  0.   0.5  1.   1.5\n",
      "  2.   2.5  3.   3.5  4.   4.5]\n"
     ]
    }
   ],
   "execution_count": 3,
   "source": [
    "x = np.arange(-5, 5.5, 0.5)\n",
    "print(x) "
   ],
   "id": "caad09d09715e2dd"
  },
  {
   "metadata": {},
   "cell_type": "markdown",
   "source": [
    "## Problem 3\n",
    "Use the numerical array $x$ from -5 to 5 with step size of 0.5 to calculate $y = x^2$."
   ],
   "id": "8b437b89606b5a83"
  },
  {
   "metadata": {
    "ExecuteTime": {
     "end_time": "2024-10-03T11:37:06.294297Z",
     "start_time": "2024-10-03T11:37:06.285770Z"
    }
   },
   "cell_type": "code",
   "source": [
    "x = np.arange(-5, 5.5, 0.5)\n",
    "y = x**2\n",
    "print(y) "
   ],
   "id": "46355158847816ff",
   "outputs": [
    {
     "name": "stdout",
     "output_type": "stream",
     "text": [
      "[25.   20.25 16.   12.25  9.    6.25  4.    2.25  1.    0.25  0.    0.25\n",
      "  1.    2.25  4.    6.25  9.   12.25 16.   20.25]\n"
     ]
    }
   ],
   "execution_count": 5
  },
  {
   "metadata": {},
   "cell_type": "markdown",
   "source": [
    "## Problem 4 ok\n",
    "\n",
    "Create a numerical array x from -100 to 100 with step size of 0.01. \n",
    "Then calculate $y = x^2 + x - 11$.    \n"
   ],
   "id": "dc0d91ce52be55f9"
  },
  {
   "metadata": {
    "ExecuteTime": {
     "end_time": "2024-10-03T10:16:52.024782Z",
     "start_time": "2024-10-03T10:16:52.018368Z"
    }
   },
   "cell_type": "code",
   "outputs": [
    {
     "name": "stdout",
     "output_type": "stream",
     "text": [
      "[ 9889.          9887.0101      9885.0204     ... 10082.97090002\n",
      " 10084.98040002 10086.99010002]\n"
     ]
    }
   ],
   "execution_count": 5,
   "source": [
    "x = np.arange(-100, 100.01, 0.01)\n",
    "y = x**2 + x - 11\n",
    "print(y)\n"
   ],
   "id": "40527b8a77bc7025"
  },
  {
   "metadata": {},
   "cell_type": "markdown",
   "source": [
    "    ## Problem 5\n",
    "\n",
    "Make a graph of the function $ y = x^2 + x - 11 $ in range $x \\in [-100, 100]$ with step size of $0.01$. \n",
    "\n",
    "Tip: First use the same code as in previous problem to create and calculate x and y.\n"
   ],
   "id": "92456ead7473f2dd"
  },
  {
   "metadata": {
    "ExecuteTime": {
     "end_time": "2024-10-03T10:24:49.338560Z",
     "start_time": "2024-10-03T10:24:49.065842Z"
    }
   },
   "cell_type": "code",
   "outputs": [
    {
     "data": {
      "text/plain": [
       "Text(0.5, 1.0, 'Sine wave')"
      ]
     },
     "execution_count": 8,
     "metadata": {},
     "output_type": "execute_result"
    },
    {
     "data": {
      "text/plain": [
       "<Figure size 300x200 with 1 Axes>"
      ],
      "image/png": "[encoded data removed]"
     },
     "metadata": {},
     "output_type": "display_data"
    }
   ],
   "execution_count": 8,
   "source": [
    "x = np.arange(-100, 100.01, 0.01)\n",
    "y = x**2 + x - 11\n",
    "plt.figure(figsize=(3, 2)) \n",
    "plt.plot(x, y) \n",
    "plt.grid(True)\n",
    "plt.xlabel('t [s]') \n",
    "plt.ylabel('S [V]') \n",
    "plt.title('Sine wave')\n",
    "\n",
    "# Graphics commands here\n"
   ],
   "id": "30f516f21ec55922"
  },
  {
   "metadata": {},
   "cell_type": "markdown",
   "source": [
    "## Problem 6\n",
    "\n",
    "Make a graph of the function $y = x^2 + x - 11$ in range $x \\in[-100, 100]$ with step size of $0.01$ (as in previous problem). \n",
    "\n",
    "- Limit the display for x-values between -25 and 25. \n",
    "- Limit the display for the y-values between -100 and 600.\n",
    "- Add gridlines to the graph."
   ],
   "id": "dd700722d4bc1614"
  },
  {
   "metadata": {
    "ExecuteTime": {
     "end_time": "2024-10-03T10:34:50.171594Z",
     "start_time": "2024-10-03T10:34:49.969097Z"
    }
   },
   "cell_type": "code",
   "outputs": [
    {
     "data": {
      "text/plain": [
       "<Figure size 640x480 with 1 Axes>"
      ],
      "image/png": "[encoded data removed]"
     },
     "metadata": {},
     "output_type": "display_data"
    }
   ],
   "execution_count": 17,
   "source": [
    "x = np.arange(-100, 100.01, 0.01)\n",
    "y = np.arange(-25, 25.01, 0.01)\n",
    "y = x**2 + x - 11\n",
    "\n",
    "plt.xlim(-25,25)\n",
    "plt.ylim(-100,600)\n",
    "plt.plot(x, y)\n",
    "plt.grid(True)\n",
    "plt.xlabel('X [s]')\n",
    "plt.ylabel('Y [V]')\n",
    "plt.title('Graph')\n",
    "plt.show()\n",
    "\n",
    "\n",
    "# Graphics commands here\n"
   ],
   "id": "13285cc147c154ee"
  },
  {
   "metadata": {},
   "cell_type": "markdown",
   "source": [
    "## Problem 7\n",
    "\n",
    "In this problem, the aim is to [*graphically* solve the problem $y(x) = 0$](https://www.youtube.com/watch?v=9xRkoYbXOaU). You can do that by iteratively zooming in to the plot and changing the x- and y-axis limits. At the end, you should be able to read the value for $x2$ from the graph.\n",
    "\n",
    "The polynomial $y = x^2 + x - 11$ have two roots, meaning $y = 0$, when $x = x1$ or $x = x2$. \n",
    "- First, make a graph of the function $y = x^2 + x - 11$ in range $x \\in[-100, 100]$ with step size of $0.01$ (as in previous problem). \n",
    "- Then change the x-axis and y-axis limits so that you can read the value of x, when $y(x) = 0$. We are interested in to find the second root of the function (e.g. $x^2 + x - 11 = 0$ and $x>0$).\n",
    "\n",
    "Finally\n",
    "- Set the x-axis limits so that the root is about in the center of the graph.\n",
    " - The width (e.g. the difference between the lower limit and higher limit) of the x-axis should be 0.30.\n",
    "- Set the y-axis limits between -1 and 1.\n",
    "- Read the value of the second root from the graph. \n",
    "- Write the value for variable $x2$ with two decimal accuracy (for example x2 = 1.23)."
   ],
   "id": "efcff9f967a54719"
  },
  {
   "metadata": {
    "tags": [],
    "ExecuteTime": {
     "end_time": "2024-10-04T20:04:22.318250Z",
     "start_time": "2024-10-04T20:04:22.129216Z"
    }
   },
   "cell_type": "code",
   "source": [
    "x = np.arange(-100, 100.01, 0.01)\n",
    "y = x**2 + x - 11\n",
    "\n",
    "a = 1\n",
    "b = 1\n",
    "c = -11\n",
    "discriminant = b**2 - 4*a*c\n",
    "x2 = (-b + np.sqrt(discriminant)) / (2*a)\n",
    "x2 = round(x2, 2)\n",
    "\n",
    "fig, ax = plt.subplots(figsize = (3, 2))\n",
    "plt.grid()\n",
    "plt.plot(x, y)\n",
    "plt.ylim(-1, 1)\n",
    "plt.xlim(x2 - 0.15, x2 + 0.15)\n",
    "plt.show()"
   ],
   "id": "fbe64b0a19ac2e2",
   "outputs": [
    {
     "data": {
      "text/plain": [
       "<Figure size 300x200 with 1 Axes>"
      ],
      "image/png": "[encoded data removed]"
     },
     "metadata": {},
     "output_type": "display_data"
    }
   ],
   "execution_count": 2
  }
 ],
 "metadata": {
  "kernelspec": {
   "display_name": "Python 3",
   "language": "python",
   "name": "python3"
  },
  "language_info": {
   "codemirror_mode": {
    "name": "ipython",
    "version": 2
   },
   "file_extension": ".py",
   "mimetype": "text/x-python",
   "name": "python",
   "nbconvert_exporter": "python",
   "pygments_lexer": "ipython2",
   "version": "2.7.6"
  }
 },
 "nbformat": 4,
 "nbformat_minor": 5
}
